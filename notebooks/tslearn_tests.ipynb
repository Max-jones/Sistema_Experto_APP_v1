{
 "cells": [
  {
   "cell_type": "code",
   "execution_count": 1,
   "id": "747b8609",
   "metadata": {},
   "outputs": [],
   "source": [
    "local_path = 'C:\\\\Users\\\\elmha\\\\OneDrive - Universidad de Chile\\GitHub\\Sistema_Experto_APP\\data\\Horcon-etiquetado_con_1_etiqueta.csv'\n",
    "import pytz\n",
    "import pandas as pd\n",
    "\n",
    "def load_data(path):\n",
    "    '''\n",
    "    ARGS: path to the local .csv file\n",
    "    Load data and search for the Date_Time column to index the dataframe by a datetime value.\n",
    "\n",
    "    '''\n",
    "    data = pd.read_csv(path, sep=';')\n",
    "    data.head()\n",
    "    data['Date_Time'] = pd.to_datetime(data['Date_Time'])\n",
    "    data.set_index('Date_Time', inplace=True)\n",
    "    chile=pytz.timezone('Chile/Continental')\n",
    "    data.index = data.index.tz_localize(pytz.utc).tz_convert(chile)\n",
    "    return data\n",
    "\n"
   ]
  },
  {
   "cell_type": "code",
   "execution_count": null,
   "id": "c3d69d7a",
   "metadata": {},
   "outputs": [
    {
     "data": {
      "text/html": [
       "<div>\n",
       "<style scoped>\n",
       "    .dataframe tbody tr th:only-of-type {\n",
       "        vertical-align: middle;\n",
       "    }\n",
       "\n",
       "    .dataframe tbody tr th {\n",
       "        vertical-align: top;\n",
       "    }\n",
       "\n",
       "    .dataframe thead th {\n",
       "        text-align: right;\n",
       "    }\n",
       "</style>\n",
       "<table border=\"1\" class=\"dataframe\">\n",
       "  <thead>\n",
       "    <tr style=\"text-align: right;\">\n",
       "      <th></th>\n",
       "      <th>Pression [cm H2O]</th>\n",
       "      <th>Temperatura [°C]</th>\n",
       "      <th>EC [µs/cm]</th>\n",
       "      <th>etiqueta conjunta</th>\n",
       "    </tr>\n",
       "    <tr>\n",
       "      <th>Date_Time</th>\n",
       "      <th></th>\n",
       "      <th></th>\n",
       "      <th></th>\n",
       "      <th></th>\n",
       "    </tr>\n",
       "  </thead>\n",
       "  <tbody>\n",
       "    <tr>\n",
       "      <th>2013-02-03 10:00:00-03:00</th>\n",
       "      <td>981.5</td>\n",
       "      <td>17.81</td>\n",
       "      <td>257</td>\n",
       "      <td>1</td>\n",
       "    </tr>\n",
       "    <tr>\n",
       "      <th>2013-02-03 11:00:00-03:00</th>\n",
       "      <td>871.1</td>\n",
       "      <td>17.86</td>\n",
       "      <td>9</td>\n",
       "      <td>1</td>\n",
       "    </tr>\n",
       "    <tr>\n",
       "      <th>2013-02-03 12:00:00-03:00</th>\n",
       "      <td>870.7</td>\n",
       "      <td>17.80</td>\n",
       "      <td>9</td>\n",
       "      <td>1</td>\n",
       "    </tr>\n",
       "    <tr>\n",
       "      <th>2013-02-03 13:00:00-03:00</th>\n",
       "      <td>1025.5</td>\n",
       "      <td>17.71</td>\n",
       "      <td>256</td>\n",
       "      <td>1</td>\n",
       "    </tr>\n",
       "    <tr>\n",
       "      <th>2013-02-03 14:00:00-03:00</th>\n",
       "      <td>870.3</td>\n",
       "      <td>17.84</td>\n",
       "      <td>9</td>\n",
       "      <td>1</td>\n",
       "    </tr>\n",
       "  </tbody>\n",
       "</table>\n",
       "</div>"
      ],
      "text/plain": [
       "                           Pression [cm H2O]  Temperatura [°C]  EC [µs/cm]  \\\n",
       "Date_Time                                                                    \n",
       "2013-02-03 10:00:00-03:00              981.5             17.81         257   \n",
       "2013-02-03 11:00:00-03:00              871.1             17.86           9   \n",
       "2013-02-03 12:00:00-03:00              870.7             17.80           9   \n",
       "2013-02-03 13:00:00-03:00             1025.5             17.71         256   \n",
       "2013-02-03 14:00:00-03:00              870.3             17.84           9   \n",
       "\n",
       "                           etiqueta conjunta  \n",
       "Date_Time                                     \n",
       "2013-02-03 10:00:00-03:00                  1  \n",
       "2013-02-03 11:00:00-03:00                  1  \n",
       "2013-02-03 12:00:00-03:00                  1  \n",
       "2013-02-03 13:00:00-03:00                  1  \n",
       "2013-02-03 14:00:00-03:00                  1  "
      ]
     },
     "metadata": {},
     "output_type": "display_data"
    }
   ],
   "source": [
    "datas = load_data(local_path)\n",
    "datas.head()\n"
   ]
  }
 ],
 "metadata": {
  "interpreter": {
   "hash": "b4a58e4499e844f48a14fbad724fa8a91a66cc5a4218912d35c7ed802ecefc5f"
  },
  "kernelspec": {
   "display_name": "Python 3.8.12 64-bit ('se_venv': conda)",
   "language": "python",
   "name": "python3"
  },
  "language_info": {
   "codemirror_mode": {
    "name": "ipython",
    "version": 3
   },
   "file_extension": ".py",
   "mimetype": "text/x-python",
   "name": "python",
   "nbconvert_exporter": "python",
   "pygments_lexer": "ipython3",
   "version": "3.8.12"
  },
  "orig_nbformat": 4
 },
 "nbformat": 4,
 "nbformat_minor": 2
}
